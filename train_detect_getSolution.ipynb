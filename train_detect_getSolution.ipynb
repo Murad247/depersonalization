{
 "cells": [
  {
   "cell_type": "markdown",
   "id": "8c3bf9f8",
   "metadata": {},
   "source": [
    "# Предобработка данных\n",
    "В файле prepare_dataset.py производиться подготовка меток, выделение валидационной выборки и аугментация тренировочных изображений. По умолчанию при запуске файла аугментация не производится, поскольку на это уходит несколько часов. Вы можете включить её, добавив параметр --augment_data 1."
   ]
  },
  {
   "cell_type": "code",
   "execution_count": null,
   "id": "bde3d0ee",
   "metadata": {},
   "outputs": [],
   "source": [
    "!python ./prepare_dataset.py --data_dir ./participants "
   ]
  },
  {
   "cell_type": "markdown",
   "id": "42ac69ae",
   "metadata": {},
   "source": [
    "Выбрав модель, я обучил её на всём доступном датасете. Также для уменьшения числа ложноположительных ответов я дополнил его изображениями без меток, которые доступны в директории ./background_images. Они взяты из общедоступного набора данных Hotels-50K, с которым я раньше работал.  \n",
    "В итоговом тренировочном наборе было 8216 изображений (2002 исходных + 5514 аугментированных + 700 без меток)"
   ]
  },
  {
   "cell_type": "markdown",
   "id": "ae3e2151",
   "metadata": {},
   "source": [
    "# Обучение\n",
    "Я использовал предобученную модель архитектуры YOLOv7. Ссылку на скачивание весов предобученной модели можно найти в [репозитории YOLOv7](https://github.com/WongKinYiu/yolov7), или можете просто скачать по [ссылке](https://github.com/WongKinYiu/yolov7/releases/download/v0.1/yolov7-e6e_training.pt) (318 Мб). Для запуска обучения скачайте её и поместите в каталог с проектом  \n",
    "\n",
    "Веса лучшей обученной мной модели можно скачать с моего Google диска по [ссылке](https://drive.google.com/u/0/uc?id=156ID04ILe_MkjvHTFS21SBcauvsrIY06&export=download) (1.2 Гб). Для получения предсказания скачайте модель и также поместите её в каталог с проектом  \n",
    "\n",
    "Результаты обучения (показатели метрик по каждой эпохе) находятся в файле result.txt. За 64 часа на RTX 3090 было пройдено 153 эпохи обучения.  \n",
    "Все команды я запускал из терминала Jupyter Notebook, но можно и в текущем блокноте"
   ]
  },
  {
   "cell_type": "code",
   "execution_count": null,
   "id": "ed6eb6dc",
   "metadata": {},
   "outputs": [],
   "source": [
    "!python ./yolov7/train_aux.py --workers 8 --device 0 --batch-size 4 --data ./data_for_yolo/dataset.yaml --img 1280 1280 --epochs 300 --cfg ./yolov7/cfg/training/yolov7-e6e.yaml --weights 'yolov7-e6e_training.pt' --name yolov7-e6e-custom"
   ]
  },
  {
   "cell_type": "markdown",
   "id": "3dd4e080",
   "metadata": {},
   "source": [
    "# Обнаружение\n",
    "Если файл detect запускается в Google Colab, можеть возникнуть ошибка в файле yolov7/utils/google_utils.py. Для её обхода достаточно закоментировать строку 31 файла yolov7/utils/google_utils.py:  \n",
    "```tag = subprocess.check_output('git tag', shell=True).decode().split()[-1]```"
   ]
  },
  {
   "cell_type": "code",
   "execution_count": null,
   "id": "e4bd4edf",
   "metadata": {},
   "outputs": [],
   "source": [
    "!python ./yolov7/detect.py --weights ./yolov7.pt --device 0 --source ./participants/test/images --img-size 1280 --save-txt --save-conf"
   ]
  },
  {
   "cell_type": "code",
   "execution_count": null,
   "id": "7fb82978",
   "metadata": {},
   "outputs": [],
   "source": []
  },
  {
   "cell_type": "code",
   "execution_count": null,
   "id": "41b04944",
   "metadata": {},
   "outputs": [],
   "source": [
    "import os\n",
    "import shutil\n",
    "import pandas as pd\n",
    "from sklearn.model_selection import train_test_split\n",
    "from map_boxes import mean_average_precision_for_boxes\n",
    "import pandas as pd\n",
    "import random\n",
    "\n",
    "\n",
    "def get_soliton_labels_df_simple_solution(path_to_txt_folder):\n",
    "    simple_solution = []\n",
    "    for detection_file in os.listdir(path_to_txt_folder):\n",
    "        img_name = detection_file.split('.')[0] + '.jpg'\n",
    "        with open(path_to_txt_folder + detection_file, 'r') as f:\n",
    "            data = f.read()\n",
    "            data = [i for i in data.split('\\n') if i != '']\n",
    "            \n",
    "            \n",
    "        for line in data:\n",
    "            val = [float(i) for i in line.split()]\n",
    "            cls, xywh, conf = int(val[0]), val[1:5], val[5]\n",
    "            center_x, center_y, width, height = xywh\n",
    "            xmin = center_x - (width / 2)\n",
    "            xmax = center_x + (width / 2)\n",
    "            ymin = center_y - (height / 2)\n",
    "            ymax = center_y + (height / 2)\n",
    "#             if cls == 1 or (cls == 2 and conf > 0.51) or (cls == 3 and conf > 0.51) or (cls == 0 and conf > 0.6) or (cls == 4 and conf > 0.6):\n",
    "#             if (cls == 1 and conf > 0.29) or (cls == 2 and conf > 0.0) or (cls == 3 and conf > 0.0) or (cls == 0 and conf > 0.0) or (cls == 4 and conf > 0.0):\n",
    "            simple_solution.append([img_name, cls, conf, xmin, xmax, ymin, ymax])\n",
    "    return simple_solution"
   ]
  },
  {
   "cell_type": "code",
   "execution_count": null,
   "id": "edb5935b",
   "metadata": {},
   "outputs": [],
   "source": [
    "simple_solution = get_soliton_labels_df_simple_solution('runs/detect/exp/labels/')\n",
    "simple_solution = pd.DataFrame(simple_solution, columns=['ImageID', 'LabelName', 'Conf', 'XMin', 'XMax', 'YMin', 'YMax'])"
   ]
  },
  {
   "cell_type": "code",
   "execution_count": null,
   "id": "2ab0e8c0",
   "metadata": {},
   "outputs": [],
   "source": [
    "simple_solution.to_csv(\"sample_solution.csv\", sep=';', index=False)"
   ]
  },
  {
   "cell_type": "code",
   "execution_count": null,
   "id": "d1ede0b5",
   "metadata": {},
   "outputs": [],
   "source": []
  }
 ],
 "metadata": {
  "hide_input": false,
  "kernelspec": {
   "display_name": "Python 3 (ipykernel)",
   "language": "python",
   "name": "python3"
  },
  "language_info": {
   "codemirror_mode": {
    "name": "ipython",
    "version": 3
   },
   "file_extension": ".py",
   "mimetype": "text/x-python",
   "name": "python",
   "nbconvert_exporter": "python",
   "pygments_lexer": "ipython3",
   "version": "3.8.13"
  }
 },
 "nbformat": 4,
 "nbformat_minor": 5
}
